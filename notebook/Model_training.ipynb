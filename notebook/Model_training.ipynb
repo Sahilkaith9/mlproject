{
 "cells": [
  {
   "cell_type": "code",
   "execution_count": 3,
   "id": "00a211ca",
   "metadata": {},
   "outputs": [],
   "source": [
    "import pandas as pd\n",
    "import numpy as np\n",
    "import seaborn as sns\n",
    "import matplotlib.pyplot as plt\n",
    "import warnings\n",
    "warnings.filterwarnings('ignore')\n",
    "\n",
    "\n",
    "from sklearn.neighbors import KNeighborsRegressor\n",
    "from sklearn.tree import DecisionTreeRegressor\n",
    "from sklearn.ensemble import RandomForestRegressor,AdaBoostRegressor\n",
    "from sklearn.svm import SVR\n",
    "from sklearn.linear_model import LinearRegression, Ridge,Lasso\n",
    "from sklearn.metrics import r2_score, mean_absolute_error, mean_squared_error\n",
    "from sklearn.model_selection import RandomizedSearchCV\n",
    "\n",
    "from xgboost import XGBRegressor\n",
    "from sklearn.metrics import mean_squared_error, r2_score\n",
    "\n"
   ]
  },
  {
   "cell_type": "code",
   "execution_count": 5,
   "id": "6991d6a1",
   "metadata": {},
   "outputs": [],
   "source": [
    "df=pd.read_csv('data/stud.csv')"
   ]
  },
  {
   "cell_type": "code",
   "execution_count": 12,
   "id": "6c82485e",
   "metadata": {},
   "outputs": [
    {
     "data": {
      "text/plain": [
       "(1000, 8)"
      ]
     },
     "execution_count": 12,
     "metadata": {},
     "output_type": "execute_result"
    }
   ],
   "source": [
    "df.shape"
   ]
  },
  {
   "cell_type": "code",
   "execution_count": 6,
   "id": "5d795f02",
   "metadata": {},
   "outputs": [],
   "source": [
    "X=df.drop('math_score',axis=1)\n",
    "y=df['math_score']"
   ]
  },
  {
   "cell_type": "code",
   "execution_count": 8,
   "id": "e46c10d4",
   "metadata": {},
   "outputs": [],
   "source": [
    "num_feature=X.select_dtypes(exclude='object').columns\n",
    "categorical_feature=X.select_dtypes(include='object').columns"
   ]
  },
  {
   "cell_type": "code",
   "execution_count": 9,
   "id": "d109bc3c",
   "metadata": {},
   "outputs": [],
   "source": [
    "from sklearn.preprocessing import OneHotEncoder,StandardScaler\n",
    "from sklearn.compose import ColumnTransformer\n",
    "\n",
    "encoder=OneHotEncoder()\n",
    "scaler=StandardScaler()\n",
    "preprocessor=ColumnTransformer(\n",
    "    [\n",
    "        (\"OneHotEncoder\",encoder,categorical_feature),\n",
    "        (\"Scaler\",scaler,num_feature)\n",
    "    ]\n",
    ")"
   ]
  },
  {
   "cell_type": "code",
   "execution_count": 10,
   "id": "cac6da6e",
   "metadata": {},
   "outputs": [],
   "source": [
    "X=preprocessor.fit_transform(X)"
   ]
  },
  {
   "cell_type": "code",
   "execution_count": 11,
   "id": "6a601aa1",
   "metadata": {},
   "outputs": [
    {
     "data": {
      "text/plain": [
       "(1000, 19)"
      ]
     },
     "execution_count": 11,
     "metadata": {},
     "output_type": "execute_result"
    }
   ],
   "source": [
    "X.shape"
   ]
  },
  {
   "cell_type": "code",
   "execution_count": 13,
   "id": "e06e9e23",
   "metadata": {},
   "outputs": [],
   "source": [
    "from sklearn.model_selection import train_test_split\n",
    "\n",
    "X_train,X_test,y_train,y_test=train_test_split(X,y,test_size=0.2,random_state=42)\n"
   ]
  },
  {
   "cell_type": "code",
   "execution_count": 14,
   "id": "3d0eb569",
   "metadata": {},
   "outputs": [],
   "source": [
    "def evaluate_model(true,predicted):\n",
    "    mae=mean_absolute_error(true,predicted)\n",
    "    mse=mean_squared_error(true,predicted)\n",
    "    rmse=np.sqrt(mse)\n",
    "    score=r2_score(true,predicted)\n",
    "    return mae,mse,rmse,score\n"
   ]
  },
  {
   "cell_type": "code",
   "execution_count": 15,
   "id": "6a4a8742",
   "metadata": {},
   "outputs": [
    {
     "name": "stdout",
     "output_type": "stream",
     "text": [
      "Linear Regression\n",
      "Model performance for Training set\n",
      "Root Mean Square Error :28.334870380648585\n",
      "Mean Absolute Error: 4.266711846071957\n",
      "Root Mean Squared Error: 5.323050852720513\n",
      "R2_score 0.8743172040139593\n",
      "----------------------------------\n",
      "Model performance for Training set\n",
      "Root Mean Square Error :29.095169866715494\n",
      "Mean Absolute Error: 4.214763142474852\n",
      "Root Mean Squared Error: 5.393993869732843\n",
      "R2_score 0.8804332983749564\n",
      "Lasso\n",
      "Model performance for Training set\n",
      "Root Mean Square Error :43.47840400585578\n",
      "Mean Absolute Error: 5.206302661246526\n",
      "Root Mean Squared Error: 6.593815587795565\n",
      "R2_score 0.8071462015863458\n",
      "----------------------------------\n",
      "Model performance for Training set\n",
      "Root Mean Square Error :42.50641683841163\n",
      "Mean Absolute Error: 5.157881810347763\n",
      "Root Mean Squared Error: 6.519694535667421\n",
      "R2_score 0.8253197323627852\n",
      "Ridge\n",
      "Model performance for Training set\n",
      "Root Mean Square Error :28.337788233082456\n",
      "Mean Absolute Error: 4.264987823725977\n",
      "Root Mean Squared Error: 5.323324922741656\n",
      "R2_score 0.8743042615212908\n",
      "----------------------------------\n",
      "Model performance for Training set\n",
      "Root Mean Square Error :29.05627219234824\n",
      "Mean Absolute Error: 4.211100688014259\n",
      "Root Mean Squared Error: 5.390387016935634\n",
      "R2_score 0.8805931485028741\n",
      "K-Neighbors Regressor\n",
      "Model performance for Training set\n",
      "Root Mean Square Error :32.6859\n",
      "Mean Absolute Error: 4.527\n",
      "Root Mean Squared Error: 5.71715838507208\n",
      "R2_score 0.8550176780012468\n",
      "----------------------------------\n",
      "Model performance for Training set\n",
      "Root Mean Square Error :52.6388\n",
      "Mean Absolute Error: 5.627999999999999\n",
      "Root Mean Squared Error: 7.255260160738552\n",
      "R2_score 0.7836806685669011\n",
      "Decision Tree\n",
      "Model performance for Training set\n",
      "Root Mean Square Error :0.078125\n",
      "Mean Absolute Error: 0.01875\n",
      "Root Mean Squared Error: 0.2795084971874737\n",
      "R2_score 0.9996534669718089\n",
      "----------------------------------\n",
      "Model performance for Training set\n",
      "Root Mean Square Error :65.715\n",
      "Mean Absolute Error: 6.435\n",
      "Root Mean Squared Error: 8.106478890369111\n",
      "R2_score 0.7299439792486513\n",
      "Random Forest Regressor\n",
      "Model performance for Training set\n",
      "Root Mean Square Error :5.3111927890625\n",
      "Mean Absolute Error: 1.827978125\n",
      "Root Mean Squared Error: 2.304602523009662\n",
      "R2_score 0.9764415523775904\n",
      "----------------------------------\n",
      "Model performance for Training set\n",
      "Root Mean Square Error :36.01419917361111\n",
      "Mean Absolute Error: 4.651925\n",
      "Root Mean Squared Error: 6.001183147814364\n",
      "R2_score 0.8519995234060423\n",
      "XGBRegressor\n",
      "Model performance for Training set\n",
      "Root Mean Square Error :1.0146163702011108\n",
      "Mean Absolute Error: 0.687466561794281\n",
      "Root Mean Squared Error: 1.0072816737145132\n",
      "R2_score 0.9954995512962341\n",
      "----------------------------------\n",
      "Model performance for Training set\n",
      "Root Mean Square Error :41.90370559692383\n",
      "Mean Absolute Error: 5.057730674743652\n",
      "Root Mean Squared Error: 6.47330716071189\n",
      "R2_score 0.8277965784072876\n",
      "AdaBoost Regressor\n",
      "Model performance for Training set\n",
      "Root Mean Square Error :34.24807974657588\n",
      "Mean Absolute Error: 4.7798903230044\n",
      "Root Mean Squared Error: 5.852185894738468\n",
      "R2_score 0.8480884379608014\n",
      "----------------------------------\n",
      "Model performance for Training set\n",
      "Root Mean Square Error :37.61178480242896\n",
      "Mean Absolute Error: 4.708504455086734\n",
      "Root Mean Squared Error: 6.1328447561004635\n",
      "R2_score 0.8454342397154376\n"
     ]
    }
   ],
   "source": [
    "models={\n",
    "\"Linear Regression\": LinearRegression(),\n",
    "    \"Lasso\": Lasso(),\n",
    "    \"Ridge\": Ridge(),\n",
    "    \"K-Neighbors Regressor\": KNeighborsRegressor(),\n",
    "    \"Decision Tree\": DecisionTreeRegressor(),\n",
    "    \"Random Forest Regressor\": RandomForestRegressor(),\n",
    "    \"XGBRegressor\": XGBRegressor(), \n",
    "    \"AdaBoost Regressor\": AdaBoostRegressor()\n",
    "}\n",
    "model_list=[]\n",
    "score=[]\n",
    "\n",
    "for i in range(len(list(models.keys()))):\n",
    "    model=list(models.values())[i]\n",
    "    model.fit(X_train,y_train)\n",
    "\n",
    "    y_train_pred = model.predict(X_train)\n",
    "    y_test_pred = model.predict(X_test)\n",
    "\n",
    "\n",
    "    mae_train,mse_train,rmse_train,score_train = evaluate_model(y_train, y_train_pred)\n",
    "\n",
    "    mae_test,mse_test,rmse_test,score_test= evaluate_model(y_test, y_test_pred)\n",
    "\n",
    "    print(list(models.keys())[i])\n",
    "    model_list.append(list(models.keys())[i])\n",
    "\n",
    "\n",
    "    print('Model performance for Training set')\n",
    "    print(f\"Root Mean Square Error :{mse_train}\")\n",
    "    print(f\"Mean Absolute Error: {mae_train}\")\n",
    "    print(f\"Root Mean Squared Error: {rmse_train}\")\n",
    "    print(f\"R2_score {score_train}\")\n",
    "    print('----------------------------------')\n",
    "    \n",
    "    print('Model performance for Training set')\n",
    "    print(f\"Root Mean Square Error :{mse_test}\")\n",
    "    print(f\"Mean Absolute Error: {mae_test}\")\n",
    "    print(f\"Root Mean Squared Error: {rmse_test}\")\n",
    "    print(f\"R2_score {score_test}\")\n",
    "    score.append(score_test)\n"
   ]
  },
  {
   "cell_type": "code",
   "execution_count": 23,
   "id": "513a4606",
   "metadata": {},
   "outputs": [
    {
     "data": {
      "text/html": [
       "<div>\n",
       "<style scoped>\n",
       "    .dataframe tbody tr th:only-of-type {\n",
       "        vertical-align: middle;\n",
       "    }\n",
       "\n",
       "    .dataframe tbody tr th {\n",
       "        vertical-align: top;\n",
       "    }\n",
       "\n",
       "    .dataframe thead th {\n",
       "        text-align: right;\n",
       "    }\n",
       "</style>\n",
       "<table border=\"1\" class=\"dataframe\">\n",
       "  <thead>\n",
       "    <tr style=\"text-align: right;\">\n",
       "      <th></th>\n",
       "      <th>model</th>\n",
       "      <th>r2_score</th>\n",
       "    </tr>\n",
       "  </thead>\n",
       "  <tbody>\n",
       "    <tr>\n",
       "      <th>0</th>\n",
       "      <td>Linear Regression</td>\n",
       "      <td>0.880433</td>\n",
       "    </tr>\n",
       "    <tr>\n",
       "      <th>1</th>\n",
       "      <td>Lasso</td>\n",
       "      <td>0.825320</td>\n",
       "    </tr>\n",
       "    <tr>\n",
       "      <th>2</th>\n",
       "      <td>Ridge</td>\n",
       "      <td>0.880593</td>\n",
       "    </tr>\n",
       "    <tr>\n",
       "      <th>3</th>\n",
       "      <td>K-Neighbors Regressor</td>\n",
       "      <td>0.783681</td>\n",
       "    </tr>\n",
       "    <tr>\n",
       "      <th>4</th>\n",
       "      <td>Decision Tree</td>\n",
       "      <td>0.729944</td>\n",
       "    </tr>\n",
       "    <tr>\n",
       "      <th>5</th>\n",
       "      <td>Random Forest Regressor</td>\n",
       "      <td>0.852000</td>\n",
       "    </tr>\n",
       "    <tr>\n",
       "      <th>6</th>\n",
       "      <td>XGBRegressor</td>\n",
       "      <td>0.827797</td>\n",
       "    </tr>\n",
       "    <tr>\n",
       "      <th>7</th>\n",
       "      <td>AdaBoost Regressor</td>\n",
       "      <td>0.845434</td>\n",
       "    </tr>\n",
       "  </tbody>\n",
       "</table>\n",
       "</div>"
      ],
      "text/plain": [
       "                     model  r2_score\n",
       "0        Linear Regression  0.880433\n",
       "1                    Lasso  0.825320\n",
       "2                    Ridge  0.880593\n",
       "3    K-Neighbors Regressor  0.783681\n",
       "4            Decision Tree  0.729944\n",
       "5  Random Forest Regressor  0.852000\n",
       "6             XGBRegressor  0.827797\n",
       "7       AdaBoost Regressor  0.845434"
      ]
     },
     "execution_count": 23,
     "metadata": {},
     "output_type": "execute_result"
    }
   ],
   "source": [
    "pd.DataFrame(list(zip(model_list,score)),columns=['model','r2_score'])"
   ]
  },
  {
   "cell_type": "code",
   "execution_count": null,
   "id": "654a264e",
   "metadata": {},
   "outputs": [
    {
     "name": "stdout",
     "output_type": "stream",
     "text": [
      "Accuracy of the model is 0.8804332983749564\n"
     ]
    }
   ],
   "source": [
    "#Linear_model training\n",
    "lin_model = LinearRegression(fit_intercept=True)\n",
    "lin_model = lin_model.fit(X_train, y_train)\n",
    "y_pred = lin_model.predict(X_test)\n",
    "score=r2_score(y_test,y_pred)\n",
    "print(f\"Accuracy of the model is {score}\")"
   ]
  },
  {
   "cell_type": "code",
   "execution_count": 25,
   "id": "3605d0cc",
   "metadata": {},
   "outputs": [
    {
     "data": {
      "text/plain": [
       "<matplotlib.collections.PathCollection at 0x128ad1540>"
      ]
     },
     "execution_count": 25,
     "metadata": {},
     "output_type": "execute_result"
    },
    {
     "data": {
      "image/png": "[encoded data removed]",
      "text/plain": [
       "<Figure size 640x480 with 1 Axes>"
      ]
     },
     "metadata": {},
     "output_type": "display_data"
    }
   ],
   "source": [
    "plt.scatter(y_test,y_pred)"
   ]
  },
  {
   "cell_type": "code",
   "execution_count": 28,
   "id": "31e5e0a8",
   "metadata": {},
   "outputs": [],
   "source": [
    "# Random forest training\n",
    "forest= RandomForestRegressor()\n",
    "forest.fit(X_train,y_train)\n",
    "forest_pred=forest.predict(X_test)"
   ]
  },
  {
   "cell_type": "code",
   "execution_count": 27,
   "id": "bf8e0ceb",
   "metadata": {},
   "outputs": [
    {
     "data": {
      "text/plain": [
       "<matplotlib.collections.PathCollection at 0x128c787c0>"
      ]
     },
     "execution_count": 27,
     "metadata": {},
     "output_type": "execute_result"
    },
    {
     "data": {
      "image/png": "[encoded data removed]",
      "text/plain": [
       "<Figure size 640x480 with 1 Axes>"
      ]
     },
     "metadata": {},
     "output_type": "display_data"
    }
   ],
   "source": [
    "plt.scatter(y_test,forest_pred)"
   ]
  },
  {
   "cell_type": "code",
   "execution_count": null,
   "id": "6e567d90",
   "metadata": {},
   "outputs": [],
   "source": []
  }
 ],
 "metadata": {
  "kernelspec": {
   "display_name": "Python 3",
   "language": "python",
   "name": "python3"
  },
  "language_info": {
   "codemirror_mode": {
    "name": "ipython",
    "version": 3
   },
   "file_extension": ".py",
   "mimetype": "text/x-python",
   "name": "python",
   "nbconvert_exporter": "python",
   "pygments_lexer": "ipython3",
   "version": "3.10.0"
  }
 },
 "nbformat": 4,
 "nbformat_minor": 5
}
